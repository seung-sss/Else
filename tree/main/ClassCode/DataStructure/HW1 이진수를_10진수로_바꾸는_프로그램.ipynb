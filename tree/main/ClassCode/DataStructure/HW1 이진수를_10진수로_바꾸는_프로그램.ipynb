{
  "nbformat": 4,
  "nbformat_minor": 0,
  "metadata": {
    "colab": {
      "name": "#1 이진수를 10진수로 바꾸는 프로그램_신승혁(12143002).ipynb",
      "provenance": [],
      "collapsed_sections": [],
      "authorship_tag": "ABX9TyOoPWwEHQqrL93MI0tUbccO",
      "include_colab_link": true
    },
    "kernelspec": {
      "name": "python3",
      "display_name": "Python 3"
    }
  },
  "cells": [
    {
      "cell_type": "markdown",
      "metadata": {
        "id": "view-in-github",
        "colab_type": "text"
      },
      "source": [
        "<a href=\"https://colab.research.google.com/github/seung-sss/Else/blob/main/tree/main/ClassCode/DataStructure/HW1%20%EC%9D%B4%EC%A7%84%EC%88%98%EB%A5%BC_10%EC%A7%84%EC%88%98%EB%A1%9C_%EB%B0%94%EA%BE%B8%EB%8A%94_%ED%94%84%EB%A1%9C%EA%B7%B8%EB%9E%A8.ipynb\" target=\"_parent\"><img src=\"https://colab.research.google.com/assets/colab-badge.svg\" alt=\"Open In Colab\"/></a>"
      ]
    },
    {
      "cell_type": "code",
      "metadata": {
        "id": "6RQ2a5DXACqW"
      },
      "source": [
        "# 이진수를 십진수로 바꾸는 함수\n",
        "\n",
        "def bin_to_dec(bin):\n",
        "    bin = str(bin)\n",
        "    bin_list = list(bin)\n",
        "    bin_list.reverse()\n",
        "\n",
        "    sum = 0\n",
        "    for i in range(len(bin_list)):\n",
        "        sum += int(bin_list[i])*(2**i)\n",
        "        \n",
        "    return sum"
      ],
      "execution_count": null,
      "outputs": []
    },
    {
      "cell_type": "code",
      "metadata": {
        "id": "JgRMKWIvJl9t",
        "colab": {
          "base_uri": "https://localhost:8080/",
          "height": 34
        },
        "outputId": "3bcae01f-1946-4b78-d0a3-7ad381d8f364"
      },
      "source": [
        "# 실행\n",
        "\n",
        "a = bin_to_dec(101011111000)\n",
        "print(a)"
      ],
      "execution_count": null,
      "outputs": [
        {
          "output_type": "stream",
          "text": [
            "2808\n"
          ],
          "name": "stdout"
        }
      ]
    },
    {
      "cell_type": "code",
      "metadata": {
        "id": "vyyViE6FK9p9",
        "colab": {
          "base_uri": "https://localhost:8080/",
          "height": 34
        },
        "outputId": "c107d0bf-a39c-44b7-8e32-2f77516ba00b"
      },
      "source": [
        "# 십진수를 이진수로 바꾸기(확인용)\n",
        "\n",
        "dec = 2808\n",
        "bin=[]\n",
        "while True:\n",
        "    fraction = dec % 2\n",
        "    bin.append(fraction)\n",
        "    dec=dec//2\n",
        "    if dec < 1: break\n",
        "\n",
        "bin.reverse()\n",
        "print (bin)"
      ],
      "execution_count": null,
      "outputs": [
        {
          "output_type": "stream",
          "text": [
            "[1, 0, 1, 0, 1, 1, 1, 1, 1, 0, 0, 0]\n"
          ],
          "name": "stdout"
        }
      ]
    },
    {
      "cell_type": "code",
      "metadata": {
        "id": "8K2R4zH8LG3q"
      },
      "source": [
        ""
      ],
      "execution_count": null,
      "outputs": []
    }
  ]
}